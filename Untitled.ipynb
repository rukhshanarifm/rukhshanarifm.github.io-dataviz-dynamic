{
 "cells": [
  {
   "cell_type": "code",
   "execution_count": 1,
   "metadata": {},
   "outputs": [],
   "source": [
    "import pandas as pd"
   ]
  },
  {
   "cell_type": "code",
   "execution_count": 8,
   "metadata": {},
   "outputs": [],
   "source": [
    "df1 = pd.read_csv(\"/Users/rukhshan/Box/5_q/dataviz_pa/project/dynamic/pak_pop.csv\")\n",
    "\n",
    "df2 = pd.read_csv(\"/Users/rukhshan/Downloads/dataviz_proj.csv\")"
   ]
  },
  {
   "cell_type": "code",
   "execution_count": 19,
   "metadata": {},
   "outputs": [],
   "source": [
    "merged = df1.merge(df2, left_on='Name', right_on='district', how='left')\n",
    "merged = merged.drop(columns=['PopulationCensus1972.09.16', 'PopulationCensus1981.03.01','PopulationCensus1998.03.01', 'PopulationCensus2017.03.15', 'Var.7'])"
   ]
  },
  {
   "cell_type": "code",
   "execution_count": 21,
   "metadata": {},
   "outputs": [],
   "source": [
    "merged.to_csv(\"/Users/rukhshan/Box/5_q/dataviz_pa/project/dynamic/pak_stats.csv\")"
   ]
  },
  {
   "cell_type": "code",
   "execution_count": null,
   "metadata": {},
   "outputs": [],
   "source": []
  }
 ],
 "metadata": {
  "kernelspec": {
   "display_name": "Python 3",
   "language": "python",
   "name": "python3"
  },
  "language_info": {
   "codemirror_mode": {
    "name": "ipython",
    "version": 3
   },
   "file_extension": ".py",
   "mimetype": "text/x-python",
   "name": "python",
   "nbconvert_exporter": "python",
   "pygments_lexer": "ipython3",
   "version": "3.7.6"
  }
 },
 "nbformat": 4,
 "nbformat_minor": 4
}
